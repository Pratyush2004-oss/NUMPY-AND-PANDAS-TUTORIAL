{
 "cells": [
  {
   "cell_type": "code",
   "execution_count": 2,
   "id": "0d95f371-47a9-45a0-9496-ded1b19ccd67",
   "metadata": {},
   "outputs": [],
   "source": [
    "import numpy as np"
   ]
  },
  {
   "cell_type": "code",
   "execution_count": 14,
   "id": "a8a388bf-2f98-4df6-b378-9de6031f0496",
   "metadata": {},
   "outputs": [
    {
     "name": "stdout",
     "output_type": "stream",
     "text": [
      "[[1 2 3]\n",
      " [4 5 6]\n",
      " [7 4 1]]\n"
     ]
    }
   ],
   "source": [
    "a = np.array([[1,2,3],[4,5,6],[7,4,1]])\n",
    "print(a)"
   ]
  },
  {
   "cell_type": "code",
   "execution_count": 16,
   "id": "dc46cb8c-42c1-44d0-a89f-bcb8a8838ba5",
   "metadata": {},
   "outputs": [
    {
     "data": {
      "text/plain": [
       "array([[1, 4, 7],\n",
       "       [2, 5, 4],\n",
       "       [3, 6, 1]])"
      ]
     },
     "execution_count": 16,
     "metadata": {},
     "output_type": "execute_result"
    }
   ],
   "source": [
    "a.T"
   ]
  },
  {
   "cell_type": "code",
   "execution_count": 18,
   "id": "cbb2a40e-d196-49b7-9c86-7dd379accd11",
   "metadata": {},
   "outputs": [
    {
     "data": {
      "text/plain": [
       "array([1, 2, 3, 4, 5, 6, 7, 4, 1])"
      ]
     },
     "execution_count": 18,
     "metadata": {},
     "output_type": "execute_result"
    }
   ],
   "source": [
    "a.flatten()"
   ]
  },
  {
   "cell_type": "code",
   "execution_count": 24,
   "id": "52252473-6dfc-4e9f-ba8c-bc00f209cd67",
   "metadata": {},
   "outputs": [
    {
     "data": {
      "text/plain": [
       "3"
      ]
     },
     "execution_count": 24,
     "metadata": {},
     "output_type": "execute_result"
    }
   ],
   "source": [
    "b = np.expand_dims(a,axis=1)\n",
    "b\n",
    "b.ndim"
   ]
  },
  {
   "cell_type": "code",
   "execution_count": 30,
   "id": "f8752ef9-5b82-4edb-be03-c11131d1ed65",
   "metadata": {},
   "outputs": [
    {
     "data": {
      "text/plain": [
       "2"
      ]
     },
     "execution_count": 30,
     "metadata": {},
     "output_type": "execute_result"
    }
   ],
   "source": [
    "b = np.squeeze(b)\n",
    "b.ndim\n"
   ]
  },
  {
   "cell_type": "code",
   "execution_count": 32,
   "id": "7504ce9d-11b8-47e4-953f-2bc8fd350674",
   "metadata": {},
   "outputs": [
    {
     "name": "stdout",
     "output_type": "stream",
     "text": [
      "[1 2 3 4 5 6 7 8 9 0]\n"
     ]
    }
   ],
   "source": [
    "arr1 = np.array([1,2,3,4,5,6,7,8,9,0])\n",
    "print(arr1)"
   ]
  },
  {
   "cell_type": "code",
   "execution_count": 51,
   "id": "ba657b24-b34b-4cf4-9b9f-ffb5ade30bd6",
   "metadata": {},
   "outputs": [],
   "source": [
    "arr2= np.expand_dims(arr1,axis=1)"
   ]
  },
  {
   "cell_type": "code",
   "execution_count": 63,
   "id": "b7d85f1a-cc69-4f88-be20-9c716ff9f0b9",
   "metadata": {},
   "outputs": [],
   "source": [
    "arr3 = np.expand_dims(arr2,axis=2)"
   ]
  },
  {
   "cell_type": "code",
   "execution_count": 71,
   "id": "de8f01bc-c318-4652-9db0-af07e15406c1",
   "metadata": {},
   "outputs": [
    {
     "data": {
      "text/plain": [
       "3"
      ]
     },
     "execution_count": 71,
     "metadata": {},
     "output_type": "execute_result"
    }
   ],
   "source": [
    "arr4 = np.expand_dims(arr2,axis=2)\n",
    "arr4.ndim"
   ]
  },
  {
   "cell_type": "code",
   "execution_count": 75,
   "id": "0cc849fb-1e60-4d4f-b92a-de6d1b991c65",
   "metadata": {},
   "outputs": [
    {
     "data": {
      "text/plain": [
       "array([1, 1, 1, 2, 2, 2, 3, 3, 3, 4, 4, 4, 5, 5, 5, 6, 6, 6, 7, 7, 7, 8,\n",
       "       8, 8, 9, 9, 9, 0, 0, 0])"
      ]
     },
     "execution_count": 75,
     "metadata": {},
     "output_type": "execute_result"
    }
   ],
   "source": [
    "np.repeat(arr1,3)"
   ]
  },
  {
   "cell_type": "code",
   "execution_count": 77,
   "id": "8ee743c2-74f5-4049-bbfb-facfd59d7073",
   "metadata": {},
   "outputs": [
    {
     "data": {
      "text/plain": [
       "array([9, 0, 1, 2, 3, 4, 5, 6, 7, 8])"
      ]
     },
     "execution_count": 77,
     "metadata": {},
     "output_type": "execute_result"
    }
   ],
   "source": [
    "np.roll(arr1,2)"
   ]
  },
  {
   "cell_type": "code",
   "execution_count": 79,
   "id": "2df2ade4-692e-46ec-9192-a4f9365b159c",
   "metadata": {},
   "outputs": [
    {
     "data": {
      "text/plain": [
       "array([[1, 0, 0, 0, 0, 0, 0, 0, 0, 0],\n",
       "       [0, 2, 0, 0, 0, 0, 0, 0, 0, 0],\n",
       "       [0, 0, 3, 0, 0, 0, 0, 0, 0, 0],\n",
       "       [0, 0, 0, 4, 0, 0, 0, 0, 0, 0],\n",
       "       [0, 0, 0, 0, 5, 0, 0, 0, 0, 0],\n",
       "       [0, 0, 0, 0, 0, 6, 0, 0, 0, 0],\n",
       "       [0, 0, 0, 0, 0, 0, 7, 0, 0, 0],\n",
       "       [0, 0, 0, 0, 0, 0, 0, 8, 0, 0],\n",
       "       [0, 0, 0, 0, 0, 0, 0, 0, 9, 0],\n",
       "       [0, 0, 0, 0, 0, 0, 0, 0, 0, 0]])"
      ]
     },
     "execution_count": 79,
     "metadata": {},
     "output_type": "execute_result"
    }
   ],
   "source": [
    "np.diag(arr1)"
   ]
  },
  {
   "cell_type": "code",
   "execution_count": 78,
   "id": "d5aacac9-5613-4363-972d-bd5028566d2e",
   "metadata": {},
   "outputs": [
    {
     "data": {
      "text/plain": [
       "array([[ 5,  6],\n",
       "       [ 7, 12]])"
      ]
     },
     "execution_count": 78,
     "metadata": {},
     "output_type": "execute_result"
    }
   ],
   "source": [
    "a1 = np.array([[1,2],[3,4]])\n",
    "a2 = np.array([[5,6],[7,8]])\n",
    "a1|a2"
   ]
  },
  {
   "cell_type": "code",
   "execution_count": 87,
   "id": "0ff92e47-b9d7-4dde-a574-23b4eec198fd",
   "metadata": {},
   "outputs": [
    {
     "data": {
      "text/plain": [
       "array([[ -6,  -7],\n",
       "       [ -8, -13]])"
      ]
     },
     "execution_count": 87,
     "metadata": {},
     "output_type": "execute_result"
    }
   ],
   "source": [
    "~(a1|a2)"
   ]
  },
  {
   "cell_type": "code",
   "execution_count": 30,
   "id": "47bbf3a8-257c-4c95-bef0-b94b5436df7f",
   "metadata": {},
   "outputs": [],
   "source": [
    "str = np.array([\"mayank\",\"dewali\",\"##9\"])"
   ]
  },
  {
   "cell_type": "code",
   "execution_count": 32,
   "id": "cac50931-713b-4a27-a33c-0228f16beb47",
   "metadata": {},
   "outputs": [
    {
     "data": {
      "text/plain": [
       "array(['MAYANK', 'DEWALI', '##9'], dtype='<U6')"
      ]
     },
     "execution_count": 32,
     "metadata": {},
     "output_type": "execute_result"
    }
   ],
   "source": [
    "np.char.upper(str)"
   ]
  },
  {
   "cell_type": "code",
   "execution_count": 34,
   "id": "e87443d7-aa06-4bb8-a239-1742dfc6a471",
   "metadata": {},
   "outputs": [
    {
     "data": {
      "text/plain": [
       "array([ True,  True, False])"
      ]
     },
     "execution_count": 34,
     "metadata": {},
     "output_type": "execute_result"
    }
   ],
   "source": [
    "np.char.islower(str)"
   ]
  },
  {
   "cell_type": "code",
   "execution_count": 36,
   "id": "8b0f8b64-af50-4006-9fa7-ffcb64849833",
   "metadata": {},
   "outputs": [
    {
     "data": {
      "text/plain": [
       "array([ True,  True, False])"
      ]
     },
     "execution_count": 36,
     "metadata": {},
     "output_type": "execute_result"
    }
   ],
   "source": [
    "np.char.isalnum(str)"
   ]
  },
  {
   "cell_type": "code",
   "execution_count": 24,
   "id": "95298baa-73d9-4d9a-b246-b6729b852f98",
   "metadata": {},
   "outputs": [
    {
     "data": {
      "text/plain": [
       "5.0990195135927845"
      ]
     },
     "execution_count": 24,
     "metadata": {},
     "output_type": "execute_result"
    }
   ],
   "source": [
    "np.sqrt(26)"
   ]
  },
  {
   "cell_type": "code",
   "execution_count": 46,
   "id": "dde8c1f1-c697-45f1-ae0b-8b1a540968ce",
   "metadata": {},
   "outputs": [
    {
     "data": {
      "text/plain": [
       "array([10.        , 14.14213562, 14.14213562, 17.32050808, 20.        ])"
      ]
     },
     "execution_count": 46,
     "metadata": {},
     "output_type": "execute_result"
    }
   ],
   "source": [
    "num = np.array([100,200,200,300,400])\n",
    "np.sqrt(num)"
   ]
  },
  {
   "cell_type": "code",
   "execution_count": 52,
   "id": "41beac01-59c7-464a-af31-19f2aea49ed3",
   "metadata": {},
   "outputs": [
    {
     "data": {
      "text/plain": [
       "240.0"
      ]
     },
     "execution_count": 52,
     "metadata": {},
     "output_type": "execute_result"
    }
   ],
   "source": [
    "np.mean(num)\n"
   ]
  },
  {
   "cell_type": "code",
   "execution_count": 54,
   "id": "f5940152-aa1c-4131-afd3-02a0a8746b9c",
   "metadata": {},
   "outputs": [
    {
     "data": {
      "text/plain": [
       "200.0"
      ]
     },
     "execution_count": 54,
     "metadata": {},
     "output_type": "execute_result"
    }
   ],
   "source": [
    "np.median(num)"
   ]
  },
  {
   "cell_type": "code",
   "execution_count": 58,
   "id": "1bee6ec8-2d87-4218-89bb-62527546252d",
   "metadata": {},
   "outputs": [
    {
     "data": {
      "text/plain": [
       "101.9803902718557"
      ]
     },
     "execution_count": 58,
     "metadata": {},
     "output_type": "execute_result"
    }
   ],
   "source": [
    "np.std(num)"
   ]
  },
  {
   "cell_type": "code",
   "execution_count": 62,
   "id": "225216fe-b268-4315-a774-127dbf52cc3d",
   "metadata": {},
   "outputs": [
    {
     "data": {
      "text/plain": [
       "array([100, 200, 200, 300, 400])"
      ]
     },
     "execution_count": 62,
     "metadata": {},
     "output_type": "execute_result"
    }
   ],
   "source": [
    "np.sort(num)"
   ]
  },
  {
   "cell_type": "code",
   "execution_count": 74,
   "id": "c3f8b1e3-91d8-4c9b-b805-25b05f8d736b",
   "metadata": {},
   "outputs": [
    {
     "data": {
      "text/plain": [
       "4"
      ]
     },
     "execution_count": 74,
     "metadata": {},
     "output_type": "execute_result"
    }
   ],
   "source": [
    "np.searchsorted(num,400)"
   ]
  },
  {
   "cell_type": "code",
   "execution_count": 76,
   "id": "c331be8e-673b-4baa-9b53-d10c857d8ae7",
   "metadata": {},
   "outputs": [
    {
     "data": {
      "text/plain": [
       "3"
      ]
     },
     "execution_count": 76,
     "metadata": {},
     "output_type": "execute_result"
    }
   ],
   "source": [
    "np.count_nonzero(str)"
   ]
  },
  {
   "cell_type": "code",
   "execution_count": 102,
   "id": "10b6f87b-e6ff-4797-9627-dad62f9072f1",
   "metadata": {},
   "outputs": [],
   "source": [
    "z1 = np.sort(a1)"
   ]
  },
  {
   "cell_type": "code",
   "execution_count": 104,
   "id": "df4972d7-3bed-430c-8fb1-e07406eb259e",
   "metadata": {},
   "outputs": [
    {
     "data": {
      "text/plain": [
       "1"
      ]
     },
     "execution_count": 104,
     "metadata": {},
     "output_type": "execute_result"
    }
   ],
   "source": [
    "np.searchsorted(z1[0],2)"
   ]
  },
  {
   "cell_type": "code",
   "execution_count": 108,
   "id": "3eaf991c-3d84-45ca-a454-52b74bd822a2",
   "metadata": {},
   "outputs": [
    {
     "data": {
      "text/plain": [
       "(array([0, 1, 2, 3, 4], dtype=int64),)"
      ]
     },
     "execution_count": 108,
     "metadata": {},
     "output_type": "execute_result"
    }
   ],
   "source": [
    "np.where(num>3)"
   ]
  },
  {
   "cell_type": "code",
   "execution_count": 112,
   "id": "07adfcee-d271-49ba-b859-fecbb0510c56",
   "metadata": {},
   "outputs": [
    {
     "name": "stdout",
     "output_type": "stream",
     "text": [
      "[500 200 200 300 400] [500 200 200 300 400]\n"
     ]
    }
   ],
   "source": [
    "a = num.view()\n",
    "a[0] = 500\n",
    "print(a,num)"
   ]
  },
  {
   "cell_type": "code",
   "execution_count": 116,
   "id": "113827c1-58bb-416a-a109-dbdb00f3c11f",
   "metadata": {},
   "outputs": [
    {
     "name": "stdout",
     "output_type": "stream",
     "text": [
      "[400 200 200 300 400] [500 200 200 300 400]\n"
     ]
    }
   ],
   "source": [
    "a = num.copy()\n",
    "a[0] = 400\n",
    "print(a,num)"
   ]
  },
  {
   "cell_type": "code",
   "execution_count": 2,
   "id": "34c8e37b-f189-4960-ad8e-6e5499684a7c",
   "metadata": {},
   "outputs": [
    {
     "data": {
      "text/plain": [
       "[0, 1, 2, 3, 4]"
      ]
     },
     "execution_count": 2,
     "metadata": {},
     "output_type": "execute_result"
    }
   ],
   "source": [
    "list(range(5))"
   ]
  },
  {
   "cell_type": "code",
   "execution_count": null,
   "id": "a55f9b25-424d-4a71-9fed-67198955c35a",
   "metadata": {},
   "outputs": [],
   "source": []
  }
 ],
 "metadata": {
  "kernelspec": {
   "display_name": "Python 3 (ipykernel)",
   "language": "python",
   "name": "python3"
  },
  "language_info": {
   "codemirror_mode": {
    "name": "ipython",
    "version": 3
   },
   "file_extension": ".py",
   "mimetype": "text/x-python",
   "name": "python",
   "nbconvert_exporter": "python",
   "pygments_lexer": "ipython3",
   "version": "3.12.4"
  }
 },
 "nbformat": 4,
 "nbformat_minor": 5
}
