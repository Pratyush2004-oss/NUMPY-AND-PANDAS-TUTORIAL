{
 "cells": [
  {
   "cell_type": "code",
   "execution_count": 4,
   "id": "3bd0f74f-fa65-4eb4-b63b-5ad09a814ba1",
   "metadata": {},
   "outputs": [],
   "source": [
    "import numpy as np\n"
   ]
  },
  {
   "cell_type": "code",
   "execution_count": 10,
   "id": "73d22725-2f4b-434f-a47e-5b6e839a278d",
   "metadata": {},
   "outputs": [],
   "source": [
    "l = ([[1,2],[3,4]])"
   ]
  },
  {
   "cell_type": "code",
   "execution_count": 10,
   "id": "cdf92516-8217-42a1-b23a-795dbec09e7c",
   "metadata": {},
   "outputs": [
    {
     "name": "stdout",
     "output_type": "stream",
     "text": [
      "[[1, 2], [3, 4]]\n"
     ]
    }
   ],
   "source": [
    "print (l)"
   ]
  },
  {
   "cell_type": "code",
   "execution_count": 12,
   "id": "05c0a234-92e1-40ad-baa9-2802796679aa",
   "metadata": {},
   "outputs": [],
   "source": [
    "ar = np.array(l)"
   ]
  },
  {
   "cell_type": "code",
   "execution_count": 14,
   "id": "f71daaa1-7b78-4462-83db-05005d2de5a1",
   "metadata": {},
   "outputs": [
    {
     "name": "stdout",
     "output_type": "stream",
     "text": [
      "[[1 2]\n",
      " [3 4]]\n"
     ]
    }
   ],
   "source": [
    "print(ar)"
   ]
  },
  {
   "cell_type": "code",
   "execution_count": 16,
   "id": "8329a094-c536-44f2-b790-6649eafa76d0",
   "metadata": {},
   "outputs": [],
   "source": [
    "tw = np.asarray(l)"
   ]
  },
  {
   "cell_type": "code",
   "execution_count": 18,
   "id": "bbcbedcc-ad42-4f81-b841-9c5fdef3eb82",
   "metadata": {},
   "outputs": [
    {
     "name": "stdout",
     "output_type": "stream",
     "text": [
      "[[1 2]\n",
      " [3 4]]\n"
     ]
    }
   ],
   "source": [
    "print(tw)"
   ]
  },
  {
   "cell_type": "code",
   "execution_count": 20,
   "id": "fbf83c58-f692-4877-b7ae-07f919f03497",
   "metadata": {},
   "outputs": [
    {
     "name": "stdout",
     "output_type": "stream",
     "text": [
      "[[1 2]\n",
      " [3 4]]\n"
     ]
    }
   ],
   "source": [
    "te = np.asanyarray(l)\n",
    "print(te)"
   ]
  },
  {
   "cell_type": "code",
   "execution_count": 22,
   "id": "81e5c058-b3ed-4ab4-a544-a9b0f3dcca6e",
   "metadata": {},
   "outputs": [],
   "source": [
    "m = np.matrix(l)"
   ]
  },
  {
   "cell_type": "code",
   "execution_count": 24,
   "id": "b8febc93-8cc0-4084-95ef-f838080f4621",
   "metadata": {},
   "outputs": [
    {
     "name": "stdout",
     "output_type": "stream",
     "text": [
      "[[1 2]\n",
      " [3 4]]\n"
     ]
    }
   ],
   "source": [
    "print(m)"
   ]
  },
  {
   "cell_type": "code",
   "execution_count": 30,
   "id": "184b8260-d795-4718-a6b5-96cdfddc4eb5",
   "metadata": {},
   "outputs": [
    {
     "data": {
      "text/plain": [
       "array([[False,  True,  True],\n",
       "       [ True, False,  True],\n",
       "       [ True,  True, False]])"
      ]
     },
     "execution_count": 30,
     "metadata": {},
     "output_type": "execute_result"
    }
   ],
   "source": [
    "np.fromfunction(lambda i,j : i != j ,(3,3))"
   ]
  },
  {
   "cell_type": "code",
   "execution_count": 32,
   "id": "b3e2211e-2919-4885-b7c9-8dc106723dbd",
   "metadata": {},
   "outputs": [
    {
     "data": {
      "text/plain": [
       "array([[0., 0., 0.],\n",
       "       [0., 1., 2.]])"
      ]
     },
     "execution_count": 32,
     "metadata": {},
     "output_type": "execute_result"
    }
   ],
   "source": [
    "np.fromfunction(lambda i,j : i*j,(2,3))"
   ]
  },
  {
   "cell_type": "code",
   "execution_count": 38,
   "id": "760ea891-ee92-45cd-806e-b6f399a0728c",
   "metadata": {},
   "outputs": [
    {
     "name": "stdout",
     "output_type": "stream",
     "text": [
      "[[0. 1. 2. 3. 4. 5.]\n",
      " [1. 2. 3. 4. 5. 6.]\n",
      " [2. 3. 4. 5. 6. 7.]\n",
      " [3. 4. 5. 6. 7. 8.]]\n"
     ]
    }
   ],
   "source": [
    "a = np.fromfunction(lambda i,j : i+j,(4,6))\n",
    "print(a)"
   ]
  },
  {
   "cell_type": "code",
   "execution_count": 42,
   "id": "e1c3caf1-9e44-4e90-bc88-a20e519ce75a",
   "metadata": {},
   "outputs": [
    {
     "name": "stdout",
     "output_type": "stream",
     "text": [
      "float64\n"
     ]
    }
   ],
   "source": [
    "print(a.dtype)"
   ]
  },
  {
   "cell_type": "code",
   "execution_count": 54,
   "id": "2886b1a9-7ba7-400b-9a98-726065c38735",
   "metadata": {},
   "outputs": [
    {
     "data": {
      "text/plain": [
       "array([ 0,  1,  4,  9, 16])"
      ]
     },
     "execution_count": 54,
     "metadata": {},
     "output_type": "execute_result"
    }
   ],
   "source": [
    "arr = (i*i for i in range(5))\n",
    "np.fromiter(arr,int)"
   ]
  },
  {
   "cell_type": "code",
   "execution_count": 74,
   "id": "4e0b5a7d-461b-43d0-97c2-94142d8f0910",
   "metadata": {},
   "outputs": [
    {
     "name": "stdout",
     "output_type": "stream",
     "text": [
      "[256. 741.   8.]\n"
     ]
    }
   ],
   "source": [
    "ar = np.fromstring(\"256 741 8\", sep = ' ')\n",
    "print(ar)"
   ]
  },
  {
   "cell_type": "code",
   "execution_count": 76,
   "id": "c3e22101-1852-454b-9dfd-a142328eec3d",
   "metadata": {},
   "outputs": [
    {
     "data": {
      "text/plain": [
       "1"
      ]
     },
     "execution_count": 76,
     "metadata": {},
     "output_type": "execute_result"
    }
   ],
   "source": [
    "ar.ndim"
   ]
  },
  {
   "cell_type": "code",
   "execution_count": 90,
   "id": "7b425e98-72b0-4057-9052-acab02042ce1",
   "metadata": {},
   "outputs": [
    {
     "name": "stdout",
     "output_type": "stream",
     "text": [
      "[[1 2 3]\n",
      " [4 8 7]\n",
      " [8 7 7]]\n"
     ]
    }
   ],
   "source": [
    "ar2 = np.array([[1,2,3],[4,8,7],[8,7,7]])\n",
    "print(ar2)"
   ]
  },
  {
   "cell_type": "code",
   "execution_count": 92,
   "id": "d49f93b1-1c11-47f1-8c45-fb178cb7c5b5",
   "metadata": {},
   "outputs": [
    {
     "data": {
      "text/plain": [
       "2"
      ]
     },
     "execution_count": 92,
     "metadata": {},
     "output_type": "execute_result"
    }
   ],
   "source": [
    "ar2.ndim"
   ]
  },
  {
   "cell_type": "code",
   "execution_count": 12,
   "id": "e7d528a0-9a8a-45a0-acdf-36c3a5566d27",
   "metadata": {},
   "outputs": [
    {
     "data": {
      "text/plain": [
       "array([[[0., 0.],\n",
       "        [0., 0.],\n",
       "        [0., 0.],\n",
       "        [0., 0.]],\n",
       "\n",
       "       [[0., 0.],\n",
       "        [0., 0.],\n",
       "        [0., 0.],\n",
       "        [0., 0.]],\n",
       "\n",
       "       [[0., 0.],\n",
       "        [0., 0.],\n",
       "        [0., 0.],\n",
       "        [0., 0.]]])"
      ]
     },
     "execution_count": 12,
     "metadata": {},
     "output_type": "execute_result"
    }
   ],
   "source": [
    "np.zeros((3,4,2))"
   ]
  },
  {
   "cell_type": "code",
   "execution_count": 14,
   "id": "8826b0f0-dfbd-4edc-be7f-47bbe1091856",
   "metadata": {},
   "outputs": [
    {
     "data": {
      "text/plain": [
       "array([1, 2, 3, 4, 5, 6, 7, 8, 9])"
      ]
     },
     "execution_count": 14,
     "metadata": {},
     "output_type": "execute_result"
    }
   ],
   "source": [
    "np.arange(1,10)"
   ]
  },
  {
   "cell_type": "code",
   "execution_count": 20,
   "id": "4af3ce8c-1b47-41c2-8148-2844c856712e",
   "metadata": {},
   "outputs": [
    {
     "data": {
      "text/plain": [
       "array([ 1.        ,  1.47368421,  1.94736842,  2.42105263,  2.89473684,\n",
       "        3.36842105,  3.84210526,  4.31578947,  4.78947368,  5.26315789,\n",
       "        5.73684211,  6.21052632,  6.68421053,  7.15789474,  7.63157895,\n",
       "        8.10526316,  8.57894737,  9.05263158,  9.52631579, 10.        ])"
      ]
     },
     "execution_count": 20,
     "metadata": {},
     "output_type": "execute_result"
    }
   ],
   "source": [
    "np.linspace(1,10,20)"
   ]
  },
  {
   "cell_type": "code",
   "execution_count": 12,
   "id": "9a33824c-0c4c-4534-a5f0-1148939d2be7",
   "metadata": {},
   "outputs": [
    {
     "data": {
      "text/plain": [
       "array([[1., 1., 1.],\n",
       "       [1., 1., 1.]])"
      ]
     },
     "execution_count": 12,
     "metadata": {},
     "output_type": "execute_result"
    }
   ],
   "source": [
    "np.ones((2,3))"
   ]
  },
  {
   "cell_type": "code",
   "execution_count": 20,
   "id": "ee11ec6a-111b-42a1-bf02-2efd73db983a",
   "metadata": {},
   "outputs": [
    {
     "name": "stdout",
     "output_type": "stream",
     "text": [
      "[5 7]\n",
      "[1, 2, 4, 5]\n"
     ]
    }
   ],
   "source": [
    "list1 = [1,2]\n",
    "a1= np.array(list1)\n",
    "list2 = [4,5]\n",
    "a2 = np.array(list2)\n",
    "print(a1+a2)\n",
    "print(list1+list2)"
   ]
  },
  {
   "cell_type": "code",
   "execution_count": 22,
   "id": "8ac2fccf-139b-4917-912c-0737dc2fcc20",
   "metadata": {},
   "outputs": [
    {
     "name": "stdout",
     "output_type": "stream",
     "text": [
      "[1, 2, 4, 5]\n"
     ]
    }
   ],
   "source": [
    "list1 = [1,2]\n",
    "list2 = [4,5]\n",
    "print(list1+list2)\n",
    "\n"
   ]
  },
  {
   "cell_type": "code",
   "execution_count": 24,
   "id": "27c22c38-e9f2-49d0-b17e-d25f9ebdd32e",
   "metadata": {},
   "outputs": [
    {
     "data": {
      "text/plain": [
       "14"
      ]
     },
     "execution_count": 24,
     "metadata": {},
     "output_type": "execute_result"
    }
   ],
   "source": [
    "a1@a2"
   ]
  },
  {
   "cell_type": "code",
   "execution_count": 26,
   "id": "b3f29fff-62ba-4821-973d-401f948863d4",
   "metadata": {},
   "outputs": [],
   "source": [
    "a1 = np.array([[1,2],[3,4]])\n",
    "a2 = np.array([[1,2],[3,4]])"
   ]
  },
  {
   "cell_type": "code",
   "execution_count": 28,
   "id": "bf4cdde6-a578-4fe6-ba9a-b3dc3007484e",
   "metadata": {},
   "outputs": [
    {
     "data": {
      "text/plain": [
       "array([[ 7, 10],\n",
       "       [15, 22]])"
      ]
     },
     "execution_count": 28,
     "metadata": {},
     "output_type": "execute_result"
    }
   ],
   "source": [
    "a1@a2"
   ]
  },
  {
   "cell_type": "code",
   "execution_count": 30,
   "id": "3be19590-7f17-4d24-84fc-1c831a3d7b14",
   "metadata": {},
   "outputs": [
    {
     "name": "stdout",
     "output_type": "stream",
     "text": [
      "[[56 71 55 38]\n",
      " [14 85 43 77]\n",
      " [14 70 74 75]]\n"
     ]
    }
   ],
   "source": [
    "arr = np.random.randint(3,100,(3,4))\n",
    "print(arr)\n"
   ]
  },
  {
   "cell_type": "code",
   "execution_count": 32,
   "id": "43435749-b55b-48eb-8392-52de01994fcb",
   "metadata": {},
   "outputs": [
    {
     "data": {
      "text/plain": [
       "array([[1., 0., 0., 0.],\n",
       "       [0., 1., 0., 0.],\n",
       "       [0., 0., 1., 0.],\n",
       "       [0., 0., 0., 1.]])"
      ]
     },
     "execution_count": 32,
     "metadata": {},
     "output_type": "execute_result"
    }
   ],
   "source": [
    "np.eye(4)\n"
   ]
  },
  {
   "cell_type": "code",
   "execution_count": 36,
   "id": "9d10490b-b8af-473e-b332-242c16735f18",
   "metadata": {},
   "outputs": [
    {
     "name": "stdout",
     "output_type": "stream",
     "text": [
      "[[0.44865202 0.70780243 0.07942247 0.06173385]\n",
      " [0.56094532 0.11557513 0.7715457  0.0587752 ]\n",
      " [0.29077686 0.23956288 0.32987388 0.79029406]]\n"
     ]
    },
    {
     "data": {
      "text/plain": [
       "array([[0.44865202, 0.70780243],\n",
       "       [0.07942247, 0.06173385],\n",
       "       [0.56094532, 0.11557513],\n",
       "       [0.7715457 , 0.0587752 ],\n",
       "       [0.29077686, 0.23956288],\n",
       "       [0.32987388, 0.79029406]])"
      ]
     },
     "execution_count": 36,
     "metadata": {},
     "output_type": "execute_result"
    }
   ],
   "source": [
    "s = np.random.rand(3,4)\n",
    "print(s)\n",
    "s.reshape(6,2)\n"
   ]
  },
  {
   "cell_type": "code",
   "execution_count": 38,
   "id": "3e973dcc-dd94-491a-aaa2-6fce7982dc81",
   "metadata": {},
   "outputs": [
    {
     "data": {
      "text/plain": [
       "array([0.56094532, 0.11557513, 0.7715457 , 0.0587752 ])"
      ]
     },
     "execution_count": 38,
     "metadata": {},
     "output_type": "execute_result"
    }
   ],
   "source": [
    "s[1]"
   ]
  },
  {
   "cell_type": "code",
   "execution_count": 42,
   "id": "67044036-a775-4db6-900b-822f5d8bac4e",
   "metadata": {},
   "outputs": [
    {
     "data": {
      "text/plain": [
       "0.11557513260631425"
      ]
     },
     "execution_count": 42,
     "metadata": {},
     "output_type": "execute_result"
    }
   ],
   "source": [
    "s[1][1]"
   ]
  },
  {
   "cell_type": "code",
   "execution_count": 44,
   "id": "040bd869-2520-41e3-9992-0cc13bb6b81c",
   "metadata": {},
   "outputs": [
    {
     "data": {
      "text/plain": [
       "array([[False,  True, False, False],\n",
       "       [ True, False,  True, False],\n",
       "       [False, False, False,  True]])"
      ]
     },
     "execution_count": 44,
     "metadata": {},
     "output_type": "execute_result"
    }
   ],
   "source": [
    "s>0.5"
   ]
  },
  {
   "cell_type": "code",
   "execution_count": 46,
   "id": "fc04dcce-6215-44f2-8b4c-cb94431e51aa",
   "metadata": {},
   "outputs": [
    {
     "name": "stdout",
     "output_type": "stream",
     "text": [
      "[[False  True False False]\n",
      " [ True False  True False]\n",
      " [False False False  True]]\n"
     ]
    }
   ],
   "source": [
    "aq = s>0.5\n",
    "print(aq)"
   ]
  },
  {
   "cell_type": "code",
   "execution_count": 50,
   "id": "aab020be-1cd1-4dc5-aec2-fbc5bd90c0e2",
   "metadata": {},
   "outputs": [
    {
     "data": {
      "text/plain": [
       "array([0.70780243, 0.56094532, 0.7715457 , 0.79029406])"
      ]
     },
     "execution_count": 50,
     "metadata": {},
     "output_type": "execute_result"
    }
   ],
   "source": [
    "s[s>0.5]"
   ]
  },
  {
   "cell_type": "code",
   "execution_count": 2,
   "id": "5e7721b8-88a2-4435-b4a0-bb7b10d052ff",
   "metadata": {},
   "outputs": [
    {
     "ename": "NameError",
     "evalue": "name 's' is not defined",
     "output_type": "error",
     "traceback": [
      "\u001b[1;31m---------------------------------------------------------------------------\u001b[0m",
      "\u001b[1;31mNameError\u001b[0m                                 Traceback (most recent call last)",
      "Cell \u001b[1;32mIn[2], line 1\u001b[0m\n\u001b[1;32m----> 1\u001b[0m s[\u001b[38;5;241m0\u001b[39m:\u001b[38;5;241m2\u001b[39m,[\u001b[38;5;241m1\u001b[39m,\u001b[38;5;241m2\u001b[39m]]\n",
      "\u001b[1;31mNameError\u001b[0m: name 's' is not defined"
     ]
    }
   ],
   "source": [
    "s[0:2,[1,2]]"
   ]
  },
  {
   "cell_type": "code",
   "execution_count": null,
   "id": "15a15d28-32f9-4e0d-a9c3-99744f4b3e72",
   "metadata": {},
   "outputs": [],
   "source": []
  }
 ],
 "metadata": {
  "kernelspec": {
   "display_name": "Python 3 (ipykernel)",
   "language": "python",
   "name": "python3"
  },
  "language_info": {
   "codemirror_mode": {
    "name": "ipython",
    "version": 3
   },
   "file_extension": ".py",
   "mimetype": "text/x-python",
   "name": "python",
   "nbconvert_exporter": "python",
   "pygments_lexer": "ipython3",
   "version": "3.12.4"
  }
 },
 "nbformat": 4,
 "nbformat_minor": 5
}
