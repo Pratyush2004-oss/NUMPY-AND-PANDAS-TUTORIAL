{
 "cells": [
  {
   "cell_type": "code",
   "execution_count": 4,
   "id": "3bd0f74f-fa65-4eb4-b63b-5ad09a814ba1",
   "metadata": {},
   "outputs": [],
   "source": [
    "import numpy as np\n"
   ]
  },
  {
   "cell_type": "code",
   "execution_count": 6,
   "id": "73d22725-2f4b-434f-a47e-5b6e839a278d",
   "metadata": {},
   "outputs": [],
   "source": [
    "l = ([[1,2],[3,4]])"
   ]
  },
  {
   "cell_type": "code",
   "execution_count": 10,
   "id": "cdf92516-8217-42a1-b23a-795dbec09e7c",
   "metadata": {},
   "outputs": [
    {
     "name": "stdout",
     "output_type": "stream",
     "text": [
      "[[1, 2], [3, 4]]\n"
     ]
    }
   ],
   "source": [
    "print (l)"
   ]
  },
  {
   "cell_type": "code",
   "execution_count": 12,
   "id": "05c0a234-92e1-40ad-baa9-2802796679aa",
   "metadata": {},
   "outputs": [],
   "source": [
    "ar = np.array(l)"
   ]
  },
  {
   "cell_type": "code",
   "execution_count": 14,
   "id": "f71daaa1-7b78-4462-83db-05005d2de5a1",
   "metadata": {},
   "outputs": [
    {
     "name": "stdout",
     "output_type": "stream",
     "text": [
      "[[1 2]\n",
      " [3 4]]\n"
     ]
    }
   ],
   "source": [
    "print(ar)"
   ]
  },
  {
   "cell_type": "code",
   "execution_count": 16,
   "id": "8329a094-c536-44f2-b790-6649eafa76d0",
   "metadata": {},
   "outputs": [],
   "source": [
    "tw = np.asarray(l)"
   ]
  },
  {
   "cell_type": "code",
   "execution_count": 18,
   "id": "bbcbedcc-ad42-4f81-b841-9c5fdef3eb82",
   "metadata": {},
   "outputs": [
    {
     "name": "stdout",
     "output_type": "stream",
     "text": [
      "[[1 2]\n",
      " [3 4]]\n"
     ]
    }
   ],
   "source": [
    "print(tw)"
   ]
  },
  {
   "cell_type": "code",
   "execution_count": 20,
   "id": "fbf83c58-f692-4877-b7ae-07f919f03497",
   "metadata": {},
   "outputs": [
    {
     "name": "stdout",
     "output_type": "stream",
     "text": [
      "[[1 2]\n",
      " [3 4]]\n"
     ]
    }
   ],
   "source": [
    "te = np.asanyarray(l)\n",
    "print(te)"
   ]
  },
  {
   "cell_type": "code",
   "execution_count": 22,
   "id": "81e5c058-b3ed-4ab4-a544-a9b0f3dcca6e",
   "metadata": {},
   "outputs": [],
   "source": [
    "m = np.matrix(l)"
   ]
  },
  {
   "cell_type": "code",
   "execution_count": 24,
   "id": "b8febc93-8cc0-4084-95ef-f838080f4621",
   "metadata": {},
   "outputs": [
    {
     "name": "stdout",
     "output_type": "stream",
     "text": [
      "[[1 2]\n",
      " [3 4]]\n"
     ]
    }
   ],
   "source": [
    "print(m)"
   ]
  },
  {
   "cell_type": "code",
   "execution_count": 30,
   "id": "184b8260-d795-4718-a6b5-96cdfddc4eb5",
   "metadata": {},
   "outputs": [
    {
     "data": {
      "text/plain": [
       "array([[False,  True,  True],\n",
       "       [ True, False,  True],\n",
       "       [ True,  True, False]])"
      ]
     },
     "execution_count": 30,
     "metadata": {},
     "output_type": "execute_result"
    }
   ],
   "source": [
    "np.fromfunction(lambda i,j : i != j ,(3,3))"
   ]
  },
  {
   "cell_type": "code",
   "execution_count": 32,
   "id": "b3e2211e-2919-4885-b7c9-8dc106723dbd",
   "metadata": {},
   "outputs": [
    {
     "data": {
      "text/plain": [
       "array([[0., 0., 0.],\n",
       "       [0., 1., 2.]])"
      ]
     },
     "execution_count": 32,
     "metadata": {},
     "output_type": "execute_result"
    }
   ],
   "source": [
    "np.fromfunction(lambda i,j : i*j,(2,3))"
   ]
  },
  {
   "cell_type": "code",
   "execution_count": 38,
   "id": "760ea891-ee92-45cd-806e-b6f399a0728c",
   "metadata": {},
   "outputs": [
    {
     "name": "stdout",
     "output_type": "stream",
     "text": [
      "[[0. 1. 2. 3. 4. 5.]\n",
      " [1. 2. 3. 4. 5. 6.]\n",
      " [2. 3. 4. 5. 6. 7.]\n",
      " [3. 4. 5. 6. 7. 8.]]\n"
     ]
    }
   ],
   "source": [
    "a = np.fromfunction(lambda i,j : i+j,(4,6))\n",
    "print(a)"
   ]
  },
  {
   "cell_type": "code",
   "execution_count": 42,
   "id": "e1c3caf1-9e44-4e90-bc88-a20e519ce75a",
   "metadata": {},
   "outputs": [
    {
     "name": "stdout",
     "output_type": "stream",
     "text": [
      "float64\n"
     ]
    }
   ],
   "source": [
    "print(a.dtype)"
   ]
  },
  {
   "cell_type": "code",
   "execution_count": 54,
   "id": "2886b1a9-7ba7-400b-9a98-726065c38735",
   "metadata": {},
   "outputs": [
    {
     "data": {
      "text/plain": [
       "array([ 0,  1,  4,  9, 16])"
      ]
     },
     "execution_count": 54,
     "metadata": {},
     "output_type": "execute_result"
    }
   ],
   "source": [
    "arr = (i*i for i in range(5))\n",
    "np.fromiter(arr,int)"
   ]
  },
  {
   "cell_type": "code",
   "execution_count": null,
   "id": "4e0b5a7d-461b-43d0-97c2-94142d8f0910",
   "metadata": {},
   "outputs": [],
   "source": []
  }
 ],
 "metadata": {
  "kernelspec": {
   "display_name": "Python 3 (ipykernel)",
   "language": "python",
   "name": "python3"
  },
  "language_info": {
   "codemirror_mode": {
    "name": "ipython",
    "version": 3
   },
   "file_extension": ".py",
   "mimetype": "text/x-python",
   "name": "python",
   "nbconvert_exporter": "python",
   "pygments_lexer": "ipython3",
   "version": "3.12.4"
  }
 },
 "nbformat": 4,
 "nbformat_minor": 5
}
