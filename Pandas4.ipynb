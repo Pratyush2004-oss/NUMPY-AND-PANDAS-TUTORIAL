{
 "cells": [
  {
   "cell_type": "code",
   "execution_count": 2,
   "id": "486dc054-3ebf-4a3a-882c-fb42af1b9552",
   "metadata": {},
   "outputs": [],
   "source": [
    "import pandas as pd"
   ]
  },
  {
   "cell_type": "code",
   "execution_count": 3,
   "id": "408a7d11-71f9-43f5-b5bf-1dbd0eb4ee91",
   "metadata": {},
   "outputs": [
    {
     "data": {
      "text/html": [
       "<div>\n",
       "<style scoped>\n",
       "    .dataframe tbody tr th:only-of-type {\n",
       "        vertical-align: middle;\n",
       "    }\n",
       "\n",
       "    .dataframe tbody tr th {\n",
       "        vertical-align: top;\n",
       "    }\n",
       "\n",
       "    .dataframe thead th {\n",
       "        text-align: right;\n",
       "    }\n",
       "</style>\n",
       "<table border=\"1\" class=\"dataframe\">\n",
       "  <thead>\n",
       "    <tr style=\"text-align: right;\">\n",
       "      <th></th>\n",
       "      <th>a</th>\n",
       "      <th>b</th>\n",
       "      <th>c</th>\n",
       "      <th>d</th>\n",
       "    </tr>\n",
       "  </thead>\n",
       "  <tbody>\n",
       "    <tr>\n",
       "      <th>0</th>\n",
       "      <td>1</td>\n",
       "      <td>4</td>\n",
       "      <td>7</td>\n",
       "      <td>Pratyush</td>\n",
       "    </tr>\n",
       "    <tr>\n",
       "      <th>1</th>\n",
       "      <td>2</td>\n",
       "      <td>5</td>\n",
       "      <td>8</td>\n",
       "      <td>BOB</td>\n",
       "    </tr>\n",
       "    <tr>\n",
       "      <th>2</th>\n",
       "      <td>3</td>\n",
       "      <td>6</td>\n",
       "      <td>5</td>\n",
       "      <td>Dean</td>\n",
       "    </tr>\n",
       "    <tr>\n",
       "      <th>3</th>\n",
       "      <td>4</td>\n",
       "      <td>7</td>\n",
       "      <td>2</td>\n",
       "      <td>Rhea</td>\n",
       "    </tr>\n",
       "  </tbody>\n",
       "</table>\n",
       "</div>"
      ],
      "text/plain": [
       "   a  b  c         d\n",
       "0  1  4  7  Pratyush\n",
       "1  2  5  8       BOB\n",
       "2  3  6  5      Dean\n",
       "3  4  7  2      Rhea"
      ]
     },
     "execution_count": 3,
     "metadata": {},
     "output_type": "execute_result"
    }
   ],
   "source": [
    "data = {\n",
    "    'a':[1,2,3,4],\n",
    "    'b':[4,5,6,7],\n",
    "    'c':[7,8,5,2],\n",
    "    'd':['Pratyush','BOB','Dean','Rhea']\n",
    "}\n",
    "df = pd.DataFrame(data)\n",
    "df"
   ]
  },
  {
   "cell_type": "code",
   "execution_count": 4,
   "id": "20e3bdc9-3adf-42d5-a466-a15b724f1c02",
   "metadata": {},
   "outputs": [
    {
     "data": {
      "text/html": [
       "<div>\n",
       "<style scoped>\n",
       "    .dataframe tbody tr th:only-of-type {\n",
       "        vertical-align: middle;\n",
       "    }\n",
       "\n",
       "    .dataframe tbody tr th {\n",
       "        vertical-align: top;\n",
       "    }\n",
       "\n",
       "    .dataframe thead th {\n",
       "        text-align: right;\n",
       "    }\n",
       "</style>\n",
       "<table border=\"1\" class=\"dataframe\">\n",
       "  <thead>\n",
       "    <tr style=\"text-align: right;\">\n",
       "      <th></th>\n",
       "      <th>b</th>\n",
       "      <th>c</th>\n",
       "      <th>d</th>\n",
       "    </tr>\n",
       "    <tr>\n",
       "      <th>a</th>\n",
       "      <th></th>\n",
       "      <th></th>\n",
       "      <th></th>\n",
       "    </tr>\n",
       "  </thead>\n",
       "  <tbody>\n",
       "    <tr>\n",
       "      <th>1</th>\n",
       "      <td>4</td>\n",
       "      <td>7</td>\n",
       "      <td>Pratyush</td>\n",
       "    </tr>\n",
       "    <tr>\n",
       "      <th>2</th>\n",
       "      <td>5</td>\n",
       "      <td>8</td>\n",
       "      <td>BOB</td>\n",
       "    </tr>\n",
       "    <tr>\n",
       "      <th>3</th>\n",
       "      <td>6</td>\n",
       "      <td>5</td>\n",
       "      <td>Dean</td>\n",
       "    </tr>\n",
       "    <tr>\n",
       "      <th>4</th>\n",
       "      <td>7</td>\n",
       "      <td>2</td>\n",
       "      <td>Rhea</td>\n",
       "    </tr>\n",
       "  </tbody>\n",
       "</table>\n",
       "</div>"
      ],
      "text/plain": [
       "   b  c         d\n",
       "a                \n",
       "1  4  7  Pratyush\n",
       "2  5  8       BOB\n",
       "3  6  5      Dean\n",
       "4  7  2      Rhea"
      ]
     },
     "execution_count": 4,
     "metadata": {},
     "output_type": "execute_result"
    }
   ],
   "source": [
    "df.set_index('a')"
   ]
  },
  {
   "cell_type": "code",
   "execution_count": 5,
   "id": "6a4da7f6-745a-4800-b728-a9b1c43bfc80",
   "metadata": {},
   "outputs": [
    {
     "data": {
      "text/html": [
       "<div>\n",
       "<style scoped>\n",
       "    .dataframe tbody tr th:only-of-type {\n",
       "        vertical-align: middle;\n",
       "    }\n",
       "\n",
       "    .dataframe tbody tr th {\n",
       "        vertical-align: top;\n",
       "    }\n",
       "\n",
       "    .dataframe thead th {\n",
       "        text-align: right;\n",
       "    }\n",
       "</style>\n",
       "<table border=\"1\" class=\"dataframe\">\n",
       "  <thead>\n",
       "    <tr style=\"text-align: right;\">\n",
       "      <th></th>\n",
       "      <th>a</th>\n",
       "      <th>b</th>\n",
       "      <th>c</th>\n",
       "    </tr>\n",
       "    <tr>\n",
       "      <th>d</th>\n",
       "      <th></th>\n",
       "      <th></th>\n",
       "      <th></th>\n",
       "    </tr>\n",
       "  </thead>\n",
       "  <tbody>\n",
       "    <tr>\n",
       "      <th>Pratyush</th>\n",
       "      <td>1</td>\n",
       "      <td>4</td>\n",
       "      <td>7</td>\n",
       "    </tr>\n",
       "    <tr>\n",
       "      <th>BOB</th>\n",
       "      <td>2</td>\n",
       "      <td>5</td>\n",
       "      <td>8</td>\n",
       "    </tr>\n",
       "    <tr>\n",
       "      <th>Dean</th>\n",
       "      <td>3</td>\n",
       "      <td>6</td>\n",
       "      <td>5</td>\n",
       "    </tr>\n",
       "    <tr>\n",
       "      <th>Rhea</th>\n",
       "      <td>4</td>\n",
       "      <td>7</td>\n",
       "      <td>2</td>\n",
       "    </tr>\n",
       "  </tbody>\n",
       "</table>\n",
       "</div>"
      ],
      "text/plain": [
       "          a  b  c\n",
       "d                \n",
       "Pratyush  1  4  7\n",
       "BOB       2  5  8\n",
       "Dean      3  6  5\n",
       "Rhea      4  7  2"
      ]
     },
     "execution_count": 5,
     "metadata": {},
     "output_type": "execute_result"
    }
   ],
   "source": [
    "df.set_index(\"d\",inplace= True)\n",
    "df"
   ]
  },
  {
   "cell_type": "code",
   "execution_count": 6,
   "id": "8d193521-048d-4a80-89cf-9ba32a8490de",
   "metadata": {
    "scrolled": true
   },
   "outputs": [
    {
     "data": {
      "text/html": [
       "<div>\n",
       "<style scoped>\n",
       "    .dataframe tbody tr th:only-of-type {\n",
       "        vertical-align: middle;\n",
       "    }\n",
       "\n",
       "    .dataframe tbody tr th {\n",
       "        vertical-align: top;\n",
       "    }\n",
       "\n",
       "    .dataframe thead th {\n",
       "        text-align: right;\n",
       "    }\n",
       "</style>\n",
       "<table border=\"1\" class=\"dataframe\">\n",
       "  <thead>\n",
       "    <tr style=\"text-align: right;\">\n",
       "      <th></th>\n",
       "      <th>d</th>\n",
       "      <th>a</th>\n",
       "      <th>b</th>\n",
       "      <th>c</th>\n",
       "    </tr>\n",
       "  </thead>\n",
       "  <tbody>\n",
       "    <tr>\n",
       "      <th>0</th>\n",
       "      <td>Pratyush</td>\n",
       "      <td>1</td>\n",
       "      <td>4</td>\n",
       "      <td>7</td>\n",
       "    </tr>\n",
       "    <tr>\n",
       "      <th>1</th>\n",
       "      <td>BOB</td>\n",
       "      <td>2</td>\n",
       "      <td>5</td>\n",
       "      <td>8</td>\n",
       "    </tr>\n",
       "    <tr>\n",
       "      <th>2</th>\n",
       "      <td>Dean</td>\n",
       "      <td>3</td>\n",
       "      <td>6</td>\n",
       "      <td>5</td>\n",
       "    </tr>\n",
       "    <tr>\n",
       "      <th>3</th>\n",
       "      <td>Rhea</td>\n",
       "      <td>4</td>\n",
       "      <td>7</td>\n",
       "      <td>2</td>\n",
       "    </tr>\n",
       "  </tbody>\n",
       "</table>\n",
       "</div>"
      ],
      "text/plain": [
       "          d  a  b  c\n",
       "0  Pratyush  1  4  7\n",
       "1       BOB  2  5  8\n",
       "2      Dean  3  6  5\n",
       "3      Rhea  4  7  2"
      ]
     },
     "execution_count": 6,
     "metadata": {},
     "output_type": "execute_result"
    }
   ],
   "source": [
    "df = df.reset_index()\n",
    "df"
   ]
  },
  {
   "cell_type": "code",
   "execution_count": 7,
   "id": "d65dd7e5-9043-4251-95cf-9712abf23b1c",
   "metadata": {},
   "outputs": [
    {
     "data": {
      "text/html": [
       "<div>\n",
       "<style scoped>\n",
       "    .dataframe tbody tr th:only-of-type {\n",
       "        vertical-align: middle;\n",
       "    }\n",
       "\n",
       "    .dataframe tbody tr th {\n",
       "        vertical-align: top;\n",
       "    }\n",
       "\n",
       "    .dataframe thead th {\n",
       "        text-align: right;\n",
       "    }\n",
       "</style>\n",
       "<table border=\"1\" class=\"dataframe\">\n",
       "  <thead>\n",
       "    <tr style=\"text-align: right;\">\n",
       "      <th></th>\n",
       "      <th>a</th>\n",
       "      <th>b</th>\n",
       "      <th>c</th>\n",
       "      <th>d</th>\n",
       "    </tr>\n",
       "  </thead>\n",
       "  <tbody>\n",
       "    <tr>\n",
       "      <th>a</th>\n",
       "      <td>1</td>\n",
       "      <td>4</td>\n",
       "      <td>7</td>\n",
       "      <td>Pratyush</td>\n",
       "    </tr>\n",
       "    <tr>\n",
       "      <th>b</th>\n",
       "      <td>2</td>\n",
       "      <td>5</td>\n",
       "      <td>8</td>\n",
       "      <td>BOB</td>\n",
       "    </tr>\n",
       "    <tr>\n",
       "      <th>c</th>\n",
       "      <td>3</td>\n",
       "      <td>6</td>\n",
       "      <td>5</td>\n",
       "      <td>Dean</td>\n",
       "    </tr>\n",
       "    <tr>\n",
       "      <th>d</th>\n",
       "      <td>4</td>\n",
       "      <td>7</td>\n",
       "      <td>2</td>\n",
       "      <td>Rhea</td>\n",
       "    </tr>\n",
       "  </tbody>\n",
       "</table>\n",
       "</div>"
      ],
      "text/plain": [
       "   a  b  c         d\n",
       "a  1  4  7  Pratyush\n",
       "b  2  5  8       BOB\n",
       "c  3  6  5      Dean\n",
       "d  4  7  2      Rhea"
      ]
     },
     "execution_count": 7,
     "metadata": {},
     "output_type": "execute_result"
    }
   ],
   "source": [
    "data = {\n",
    "    'a':[1,2,3,4],\n",
    "    'b':[4,5,6,7],\n",
    "    'c':[7,8,5,2],\n",
    "    'd':['Pratyush','BOB','Dean','Rhea']\n",
    "}\n",
    "df1 = pd.DataFrame(data,index=['a','b','c','d'])\n",
    "df1"
   ]
  },
  {
   "cell_type": "code",
   "execution_count": 8,
   "id": "050dee90-21f1-4ced-b1cd-49c93d96611b",
   "metadata": {},
   "outputs": [
    {
     "data": {
      "text/html": [
       "<div>\n",
       "<style scoped>\n",
       "    .dataframe tbody tr th:only-of-type {\n",
       "        vertical-align: middle;\n",
       "    }\n",
       "\n",
       "    .dataframe tbody tr th {\n",
       "        vertical-align: top;\n",
       "    }\n",
       "\n",
       "    .dataframe thead th {\n",
       "        text-align: right;\n",
       "    }\n",
       "</style>\n",
       "<table border=\"1\" class=\"dataframe\">\n",
       "  <thead>\n",
       "    <tr style=\"text-align: right;\">\n",
       "      <th></th>\n",
       "      <th>a</th>\n",
       "      <th>b</th>\n",
       "      <th>c</th>\n",
       "      <th>d</th>\n",
       "    </tr>\n",
       "  </thead>\n",
       "  <tbody>\n",
       "    <tr>\n",
       "      <th>b</th>\n",
       "      <td>2</td>\n",
       "      <td>5</td>\n",
       "      <td>8</td>\n",
       "      <td>BOB</td>\n",
       "    </tr>\n",
       "    <tr>\n",
       "      <th>c</th>\n",
       "      <td>3</td>\n",
       "      <td>6</td>\n",
       "      <td>5</td>\n",
       "      <td>Dean</td>\n",
       "    </tr>\n",
       "    <tr>\n",
       "      <th>d</th>\n",
       "      <td>4</td>\n",
       "      <td>7</td>\n",
       "      <td>2</td>\n",
       "      <td>Rhea</td>\n",
       "    </tr>\n",
       "    <tr>\n",
       "      <th>a</th>\n",
       "      <td>1</td>\n",
       "      <td>4</td>\n",
       "      <td>7</td>\n",
       "      <td>Pratyush</td>\n",
       "    </tr>\n",
       "  </tbody>\n",
       "</table>\n",
       "</div>"
      ],
      "text/plain": [
       "   a  b  c         d\n",
       "b  2  5  8       BOB\n",
       "c  3  6  5      Dean\n",
       "d  4  7  2      Rhea\n",
       "a  1  4  7  Pratyush"
      ]
     },
     "execution_count": 8,
     "metadata": {},
     "output_type": "execute_result"
    }
   ],
   "source": [
    "df1 = df1.reindex(['b','c','d','a'])\n",
    "df1"
   ]
  },
  {
   "cell_type": "code",
   "execution_count": 9,
   "id": "3e4ea219-b4f7-4368-acb5-df9af9e4705a",
   "metadata": {},
   "outputs": [
    {
     "name": "stdout",
     "output_type": "stream",
     "text": [
      "('b', a      2\n",
      "b      5\n",
      "c      8\n",
      "d    BOB\n",
      "Name: b, dtype: object)\n",
      "('c', a       3\n",
      "b       6\n",
      "c       5\n",
      "d    Dean\n",
      "Name: c, dtype: object)\n",
      "('d', a       4\n",
      "b       7\n",
      "c       2\n",
      "d    Rhea\n",
      "Name: d, dtype: object)\n",
      "('a', a           1\n",
      "b           4\n",
      "c           7\n",
      "d    Pratyush\n",
      "Name: a, dtype: object)\n"
     ]
    }
   ],
   "source": [
    "for i in df1.iterrows():\n",
    "    print(i)"
   ]
  },
  {
   "cell_type": "code",
   "execution_count": 10,
   "id": "af154f3f-4dfb-4cf8-a06a-f304ad3dcf0f",
   "metadata": {},
   "outputs": [
    {
     "data": {
      "text/html": [
       "<div>\n",
       "<style scoped>\n",
       "    .dataframe tbody tr th:only-of-type {\n",
       "        vertical-align: middle;\n",
       "    }\n",
       "\n",
       "    .dataframe tbody tr th {\n",
       "        vertical-align: top;\n",
       "    }\n",
       "\n",
       "    .dataframe thead th {\n",
       "        text-align: right;\n",
       "    }\n",
       "</style>\n",
       "<table border=\"1\" class=\"dataframe\">\n",
       "  <thead>\n",
       "    <tr style=\"text-align: right;\">\n",
       "      <th></th>\n",
       "      <th>index</th>\n",
       "      <th>a</th>\n",
       "      <th>b</th>\n",
       "      <th>c</th>\n",
       "      <th>d</th>\n",
       "    </tr>\n",
       "  </thead>\n",
       "  <tbody>\n",
       "    <tr>\n",
       "      <th>0</th>\n",
       "      <td>b</td>\n",
       "      <td>2</td>\n",
       "      <td>5</td>\n",
       "      <td>8</td>\n",
       "      <td>BOB</td>\n",
       "    </tr>\n",
       "    <tr>\n",
       "      <th>1</th>\n",
       "      <td>c</td>\n",
       "      <td>3</td>\n",
       "      <td>6</td>\n",
       "      <td>5</td>\n",
       "      <td>Dean</td>\n",
       "    </tr>\n",
       "    <tr>\n",
       "      <th>2</th>\n",
       "      <td>d</td>\n",
       "      <td>4</td>\n",
       "      <td>7</td>\n",
       "      <td>2</td>\n",
       "      <td>Rhea</td>\n",
       "    </tr>\n",
       "    <tr>\n",
       "      <th>3</th>\n",
       "      <td>a</td>\n",
       "      <td>1</td>\n",
       "      <td>4</td>\n",
       "      <td>7</td>\n",
       "      <td>Pratyush</td>\n",
       "    </tr>\n",
       "  </tbody>\n",
       "</table>\n",
       "</div>"
      ],
      "text/plain": [
       "  index  a  b  c         d\n",
       "0     b  2  5  8       BOB\n",
       "1     c  3  6  5      Dean\n",
       "2     d  4  7  2      Rhea\n",
       "3     a  1  4  7  Pratyush"
      ]
     },
     "execution_count": 10,
     "metadata": {},
     "output_type": "execute_result"
    }
   ],
   "source": [
    "df1.reset_index()"
   ]
  },
  {
   "cell_type": "code",
   "execution_count": 11,
   "id": "a43ed8dc-326e-4486-b976-d6c6e2ce84d8",
   "metadata": {},
   "outputs": [
    {
     "name": "stdout",
     "output_type": "stream",
     "text": [
      "('b', a      2\n",
      "b      5\n",
      "c      8\n",
      "d    BOB\n",
      "Name: b, dtype: object)\n",
      "('c', a       3\n",
      "b       6\n",
      "c       5\n",
      "d    Dean\n",
      "Name: c, dtype: object)\n",
      "('d', a       4\n",
      "b       7\n",
      "c       2\n",
      "d    Rhea\n",
      "Name: d, dtype: object)\n",
      "('a', a           1\n",
      "b           4\n",
      "c           7\n",
      "d    Pratyush\n",
      "Name: a, dtype: object)\n"
     ]
    }
   ],
   "source": [
    "for i in df1.iterrows():\n",
    "    print(i)"
   ]
  },
  {
   "cell_type": "code",
   "execution_count": 12,
   "id": "766cba27-cfaa-463f-9845-de1bd2b4e721",
   "metadata": {},
   "outputs": [
    {
     "data": {
      "text/plain": [
       "['Pratyush', 'BOB', 'Dean', 'Rhea']"
      ]
     },
     "execution_count": 12,
     "metadata": {},
     "output_type": "execute_result"
    }
   ],
   "source": [
    "list(df['d'])"
   ]
  },
  {
   "cell_type": "code",
   "execution_count": 13,
   "id": "74d5bd61-dfbf-4620-b858-40c5ac7da2b6",
   "metadata": {},
   "outputs": [
    {
     "data": {
      "text/plain": [
       "a                     10\n",
       "b                     22\n",
       "c                     22\n",
       "d    BOBDeanRheaPratyush\n",
       "dtype: object"
      ]
     },
     "execution_count": 13,
     "metadata": {},
     "output_type": "execute_result"
    }
   ],
   "source": [
    "def text(x):\n",
    "    return x.sum()\n",
    "df1.apply(text)"
   ]
  },
  {
   "cell_type": "code",
   "execution_count": 14,
   "id": "a4e6b38b-834d-4070-b521-5664cefff7d9",
   "metadata": {},
   "outputs": [
    {
     "data": {
      "text/html": [
       "<div>\n",
       "<style scoped>\n",
       "    .dataframe tbody tr th:only-of-type {\n",
       "        vertical-align: middle;\n",
       "    }\n",
       "\n",
       "    .dataframe tbody tr th {\n",
       "        vertical-align: top;\n",
       "    }\n",
       "\n",
       "    .dataframe thead th {\n",
       "        text-align: right;\n",
       "    }\n",
       "</style>\n",
       "<table border=\"1\" class=\"dataframe\">\n",
       "  <thead>\n",
       "    <tr style=\"text-align: right;\">\n",
       "      <th></th>\n",
       "      <th>Desc</th>\n",
       "      <th>key</th>\n",
       "    </tr>\n",
       "  </thead>\n",
       "  <tbody>\n",
       "    <tr>\n",
       "      <th>0</th>\n",
       "      <td>The tiger is a member of the genus Panthera and the largest living cat Lorem ipsum dolor sit amet consectetur, adipisicing elit. Tempore tenetur vitae sunt, id doloremque deserunt repellendus beatae dicta voluptas eum assumenda sit! Magni voluptatibus in minima distinctio hic autem fugiat, quibusdam, necessitatibus iusto accusamus molestiae temporibus porro nesciunt labore ullam odit repellat debitis, quia sapiente atque animi provident vitae delectus. Quod ex enim, reiciendis architecto dolor earum dolorem autem animi.</td>\n",
       "      <td>Lorem ipsum dolor sit amet consectetur, adipisicing elit. Tempore tenetur vitae sunt, id doloremque deserunt repellendus beatae dicta voluptas eum assumenda sit! Magni voluptatibus in minima distinctio hic autem fugiat, quibusdam, necessitatibus iusto accusamus molestiae temporibus porro nesciunt labore ullam odit repellat debitis, quia sapiente atque animi provident vitae delectus. Quod ex enim, reiciendis architecto dolor earum dolorem autem animi.</td>\n",
       "    </tr>\n",
       "    <tr>\n",
       "      <th>1</th>\n",
       "      <td>Hello World</td>\n",
       "      <td>Hii</td>\n",
       "    </tr>\n",
       "  </tbody>\n",
       "</table>\n",
       "</div>"
      ],
      "text/plain": [
       "                                                                                                                                                                                                                                                                                                                                                                                                                                                                                                                                            Desc  \\\n",
       "0  The tiger is a member of the genus Panthera and the largest living cat Lorem ipsum dolor sit amet consectetur, adipisicing elit. Tempore tenetur vitae sunt, id doloremque deserunt repellendus beatae dicta voluptas eum assumenda sit! Magni voluptatibus in minima distinctio hic autem fugiat, quibusdam, necessitatibus iusto accusamus molestiae temporibus porro nesciunt labore ullam odit repellat debitis, quia sapiente atque animi provident vitae delectus. Quod ex enim, reiciendis architecto dolor earum dolorem autem animi.   \n",
       "1                                                                                                                                                                                                                                                                                                                                                                                                                                                                                                                                    Hello World   \n",
       "\n",
       "                                                                                                                                                                                                                                                                                                                                                                                                                                                                      key  \n",
       "0  Lorem ipsum dolor sit amet consectetur, adipisicing elit. Tempore tenetur vitae sunt, id doloremque deserunt repellendus beatae dicta voluptas eum assumenda sit! Magni voluptatibus in minima distinctio hic autem fugiat, quibusdam, necessitatibus iusto accusamus molestiae temporibus porro nesciunt labore ullam odit repellat debitis, quia sapiente atque animi provident vitae delectus. Quod ex enim, reiciendis architecto dolor earum dolorem autem animi.  \n",
       "1                                                                                                                                                                                                                                                                                                                                                                                                                                                                     Hii  "
      ]
     },
     "execution_count": 14,
     "metadata": {},
     "output_type": "execute_result"
    }
   ],
   "source": [
    "pd.set_option('display.max_colwidth',1000)\n",
    "df3 = pd.DataFrame({'Desc':[\"The tiger is a member of the genus Panthera and the largest living cat Lorem ipsum dolor sit amet consectetur, adipisicing elit. Tempore tenetur vitae sunt, id doloremque deserunt repellendus beatae dicta voluptas eum assumenda sit! Magni voluptatibus in minima distinctio hic autem fugiat, quibusdam, necessitatibus iusto accusamus molestiae temporibus porro nesciunt labore ullam odit repellat debitis, quia sapiente atque animi provident vitae delectus. Quod ex enim, reiciendis architecto dolor earum dolorem autem animi.\",'Hello World'],'key':['Lorem ipsum dolor sit amet consectetur, adipisicing elit. Tempore tenetur vitae sunt, id doloremque deserunt repellendus beatae dicta voluptas eum assumenda sit! Magni voluptatibus in minima distinctio hic autem fugiat, quibusdam, necessitatibus iusto accusamus molestiae temporibus porro nesciunt labore ullam odit repellat debitis, quia sapiente atque animi provident vitae delectus. Quod ex enim, reiciendis architecto dolor earum dolorem autem animi.','Hii']})\n",
    "df3"
   ]
  },
  {
   "cell_type": "code",
   "execution_count": 15,
   "id": "03d4eefb-ba7a-440a-9b5f-21dea276c4ff",
   "metadata": {},
   "outputs": [
    {
     "data": {
      "text/html": [
       "<div>\n",
       "<style scoped>\n",
       "    .dataframe tbody tr th:only-of-type {\n",
       "        vertical-align: middle;\n",
       "    }\n",
       "\n",
       "    .dataframe tbody tr th {\n",
       "        vertical-align: top;\n",
       "    }\n",
       "\n",
       "    .dataframe thead th {\n",
       "        text-align: right;\n",
       "    }\n",
       "</style>\n",
       "<table border=\"1\" class=\"dataframe\">\n",
       "  <thead>\n",
       "    <tr style=\"text-align: right;\">\n",
       "      <th></th>\n",
       "      <th>Desc</th>\n",
       "      <th>key</th>\n",
       "      <th>len</th>\n",
       "    </tr>\n",
       "  </thead>\n",
       "  <tbody>\n",
       "    <tr>\n",
       "      <th>0</th>\n",
       "      <td>The tiger is a member of the genus Panthera and the largest living cat Lorem ipsum dolor sit amet consectetur, adipisicing elit. Tempore tenetur vitae sunt, id doloremque deserunt repellendus beatae dicta voluptas eum assumenda sit! Magni voluptatibus in minima distinctio hic autem fugiat, quibusdam, necessitatibus iusto accusamus molestiae temporibus porro nesciunt labore ullam odit repellat debitis, quia sapiente atque animi provident vitae delectus. Quod ex enim, reiciendis architecto dolor earum dolorem autem animi.</td>\n",
       "      <td>Lorem ipsum dolor sit amet consectetur, adipisicing elit. Tempore tenetur vitae sunt, id doloremque deserunt repellendus beatae dicta voluptas eum assumenda sit! Magni voluptatibus in minima distinctio hic autem fugiat, quibusdam, necessitatibus iusto accusamus molestiae temporibus porro nesciunt labore ullam odit repellat debitis, quia sapiente atque animi provident vitae delectus. Quod ex enim, reiciendis architecto dolor earum dolorem autem animi.</td>\n",
       "      <td>525</td>\n",
       "    </tr>\n",
       "    <tr>\n",
       "      <th>1</th>\n",
       "      <td>Hello World</td>\n",
       "      <td>Hii</td>\n",
       "      <td>11</td>\n",
       "    </tr>\n",
       "  </tbody>\n",
       "</table>\n",
       "</div>"
      ],
      "text/plain": [
       "                                                                                                                                                                                                                                                                                                                                                                                                                                                                                                                                            Desc  \\\n",
       "0  The tiger is a member of the genus Panthera and the largest living cat Lorem ipsum dolor sit amet consectetur, adipisicing elit. Tempore tenetur vitae sunt, id doloremque deserunt repellendus beatae dicta voluptas eum assumenda sit! Magni voluptatibus in minima distinctio hic autem fugiat, quibusdam, necessitatibus iusto accusamus molestiae temporibus porro nesciunt labore ullam odit repellat debitis, quia sapiente atque animi provident vitae delectus. Quod ex enim, reiciendis architecto dolor earum dolorem autem animi.   \n",
       "1                                                                                                                                                                                                                                                                                                                                                                                                                                                                                                                                    Hello World   \n",
       "\n",
       "                                                                                                                                                                                                                                                                                                                                                                                                                                                                      key  \\\n",
       "0  Lorem ipsum dolor sit amet consectetur, adipisicing elit. Tempore tenetur vitae sunt, id doloremque deserunt repellendus beatae dicta voluptas eum assumenda sit! Magni voluptatibus in minima distinctio hic autem fugiat, quibusdam, necessitatibus iusto accusamus molestiae temporibus porro nesciunt labore ullam odit repellat debitis, quia sapiente atque animi provident vitae delectus. Quod ex enim, reiciendis architecto dolor earum dolorem autem animi.   \n",
       "1                                                                                                                                                                                                                                                                                                                                                                                                                                                                     Hii   \n",
       "\n",
       "   len  \n",
       "0  525  \n",
       "1   11  "
      ]
     },
     "execution_count": 15,
     "metadata": {},
     "output_type": "execute_result"
    }
   ],
   "source": [
    "df3['len'] = df3['Desc'].apply(len)\n",
    "pd.DataFrame(df3)"
   ]
  },
  {
   "cell_type": "code",
   "execution_count": 16,
   "id": "d68e1972-67b7-45e7-9e3c-aac1fc8eae25",
   "metadata": {},
   "outputs": [
    {
     "data": {
      "text/plain": [
       "6"
      ]
     },
     "execution_count": 16,
     "metadata": {},
     "output_type": "execute_result"
    }
   ],
   "source": [
    "t = 'This is a Data Science Class'\n",
    "len(t.split())"
   ]
  },
  {
   "cell_type": "code",
   "execution_count": 17,
   "id": "2f543c97-2efd-4941-a933-0fbec53ff7a0",
   "metadata": {},
   "outputs": [
    {
     "data": {
      "text/html": [
       "<div>\n",
       "<style scoped>\n",
       "    .dataframe tbody tr th:only-of-type {\n",
       "        vertical-align: middle;\n",
       "    }\n",
       "\n",
       "    .dataframe tbody tr th {\n",
       "        vertical-align: top;\n",
       "    }\n",
       "\n",
       "    .dataframe thead th {\n",
       "        text-align: right;\n",
       "    }\n",
       "</style>\n",
       "<table border=\"1\" class=\"dataframe\">\n",
       "  <thead>\n",
       "    <tr style=\"text-align: right;\">\n",
       "      <th></th>\n",
       "      <th>Desc</th>\n",
       "      <th>key</th>\n",
       "      <th>len</th>\n",
       "      <th>word_count</th>\n",
       "    </tr>\n",
       "  </thead>\n",
       "  <tbody>\n",
       "    <tr>\n",
       "      <th>0</th>\n",
       "      <td>The tiger is a member of the genus Panthera and the largest living cat Lorem ipsum dolor sit amet consectetur, adipisicing elit. Tempore tenetur vitae sunt, id doloremque deserunt repellendus beatae dicta voluptas eum assumenda sit! Magni voluptatibus in minima distinctio hic autem fugiat, quibusdam, necessitatibus iusto accusamus molestiae temporibus porro nesciunt labore ullam odit repellat debitis, quia sapiente atque animi provident vitae delectus. Quod ex enim, reiciendis architecto dolor earum dolorem autem animi.</td>\n",
       "      <td>Lorem ipsum dolor sit amet consectetur, adipisicing elit. Tempore tenetur vitae sunt, id doloremque deserunt repellendus beatae dicta voluptas eum assumenda sit! Magni voluptatibus in minima distinctio hic autem fugiat, quibusdam, necessitatibus iusto accusamus molestiae temporibus porro nesciunt labore ullam odit repellat debitis, quia sapiente atque animi provident vitae delectus. Quod ex enim, reiciendis architecto dolor earum dolorem autem animi.</td>\n",
       "      <td>525</td>\n",
       "      <td>[The, tiger, is, a, member, of, the, genus, Panthera, and, the, largest, living, cat, Lorem, ipsum, dolor, sit, amet, consectetur,, adipisicing, elit., Tempore, tenetur, vitae, sunt,, id, doloremque, deserunt, repellendus, beatae, dicta, voluptas, eum, assumenda, sit!, Magni, voluptatibus, in, minima, distinctio, hic, autem, fugiat,, quibusdam,, necessitatibus, iusto, accusamus, molestiae, temporibus, porro, nesciunt, labore, ullam, odit, repellat, debitis,, quia, sapiente, atque, animi, provident, vitae, delectus., Quod, ex, enim,, reiciendis, architecto, dolor, earum, dolorem, autem, animi.]</td>\n",
       "    </tr>\n",
       "    <tr>\n",
       "      <th>1</th>\n",
       "      <td>Hello World</td>\n",
       "      <td>Hii</td>\n",
       "      <td>11</td>\n",
       "      <td>[Hello, World]</td>\n",
       "    </tr>\n",
       "  </tbody>\n",
       "</table>\n",
       "</div>"
      ],
      "text/plain": [
       "                                                                                                                                                                                                                                                                                                                                                                                                                                                                                                                                            Desc  \\\n",
       "0  The tiger is a member of the genus Panthera and the largest living cat Lorem ipsum dolor sit amet consectetur, adipisicing elit. Tempore tenetur vitae sunt, id doloremque deserunt repellendus beatae dicta voluptas eum assumenda sit! Magni voluptatibus in minima distinctio hic autem fugiat, quibusdam, necessitatibus iusto accusamus molestiae temporibus porro nesciunt labore ullam odit repellat debitis, quia sapiente atque animi provident vitae delectus. Quod ex enim, reiciendis architecto dolor earum dolorem autem animi.   \n",
       "1                                                                                                                                                                                                                                                                                                                                                                                                                                                                                                                                    Hello World   \n",
       "\n",
       "                                                                                                                                                                                                                                                                                                                                                                                                                                                                      key  \\\n",
       "0  Lorem ipsum dolor sit amet consectetur, adipisicing elit. Tempore tenetur vitae sunt, id doloremque deserunt repellendus beatae dicta voluptas eum assumenda sit! Magni voluptatibus in minima distinctio hic autem fugiat, quibusdam, necessitatibus iusto accusamus molestiae temporibus porro nesciunt labore ullam odit repellat debitis, quia sapiente atque animi provident vitae delectus. Quod ex enim, reiciendis architecto dolor earum dolorem autem animi.   \n",
       "1                                                                                                                                                                                                                                                                                                                                                                                                                                                                     Hii   \n",
       "\n",
       "   len  \\\n",
       "0  525   \n",
       "1   11   \n",
       "\n",
       "                                                                                                                                                                                                                                                                                                                                                                                                                                                                                                                                                                                                                 word_count  \n",
       "0  [The, tiger, is, a, member, of, the, genus, Panthera, and, the, largest, living, cat, Lorem, ipsum, dolor, sit, amet, consectetur,, adipisicing, elit., Tempore, tenetur, vitae, sunt,, id, doloremque, deserunt, repellendus, beatae, dicta, voluptas, eum, assumenda, sit!, Magni, voluptatibus, in, minima, distinctio, hic, autem, fugiat,, quibusdam,, necessitatibus, iusto, accusamus, molestiae, temporibus, porro, nesciunt, labore, ullam, odit, repellat, debitis,, quia, sapiente, atque, animi, provident, vitae, delectus., Quod, ex, enim,, reiciendis, architecto, dolor, earum, dolorem, autem, animi.]  \n",
       "1                                                                                                                                                                                                                                                                                                                                                                                                                                                                                                                                                                                                            [Hello, World]  "
      ]
     },
     "execution_count": 17,
     "metadata": {},
     "output_type": "execute_result"
    }
   ],
   "source": [
    "df3[\"word_count\"] = df3['Desc'].apply(lambda x:(x.split()))\n",
    "pd.DataFrame(df3)"
   ]
  },
  {
   "cell_type": "code",
   "execution_count": 18,
   "id": "314b8e0c-bc95-40f0-b8e1-e97a413797c4",
   "metadata": {},
   "outputs": [
    {
     "data": {
      "text/html": [
       "<div>\n",
       "<style scoped>\n",
       "    .dataframe tbody tr th:only-of-type {\n",
       "        vertical-align: middle;\n",
       "    }\n",
       "\n",
       "    .dataframe tbody tr th {\n",
       "        vertical-align: top;\n",
       "    }\n",
       "\n",
       "    .dataframe thead th {\n",
       "        text-align: right;\n",
       "    }\n",
       "</style>\n",
       "<table border=\"1\" class=\"dataframe\">\n",
       "  <thead>\n",
       "    <tr style=\"text-align: right;\">\n",
       "      <th></th>\n",
       "      <th>a</th>\n",
       "      <th>b</th>\n",
       "      <th>c</th>\n",
       "      <th>d</th>\n",
       "    </tr>\n",
       "  </thead>\n",
       "  <tbody>\n",
       "    <tr>\n",
       "      <th>b</th>\n",
       "      <td>2</td>\n",
       "      <td>5</td>\n",
       "      <td>8</td>\n",
       "      <td>BOB</td>\n",
       "    </tr>\n",
       "    <tr>\n",
       "      <th>c</th>\n",
       "      <td>3</td>\n",
       "      <td>6</td>\n",
       "      <td>5</td>\n",
       "      <td>Dean</td>\n",
       "    </tr>\n",
       "    <tr>\n",
       "      <th>d</th>\n",
       "      <td>4</td>\n",
       "      <td>7</td>\n",
       "      <td>2</td>\n",
       "      <td>Rhea</td>\n",
       "    </tr>\n",
       "    <tr>\n",
       "      <th>a</th>\n",
       "      <td>1</td>\n",
       "      <td>4</td>\n",
       "      <td>7</td>\n",
       "      <td>Pratyush</td>\n",
       "    </tr>\n",
       "  </tbody>\n",
       "</table>\n",
       "</div>"
      ],
      "text/plain": [
       "   a  b  c         d\n",
       "b  2  5  8       BOB\n",
       "c  3  6  5      Dean\n",
       "d  4  7  2      Rhea\n",
       "a  1  4  7  Pratyush"
      ]
     },
     "execution_count": 18,
     "metadata": {},
     "output_type": "execute_result"
    }
   ],
   "source": [
    "pd.DataFrame(df1)"
   ]
  },
  {
   "cell_type": "code",
   "execution_count": 19,
   "id": "222af1ae-5801-4a65-baf2-10c452e8fe2d",
   "metadata": {},
   "outputs": [
    {
     "data": {
      "text/plain": [
       "10"
      ]
     },
     "execution_count": 19,
     "metadata": {},
     "output_type": "execute_result"
    }
   ],
   "source": [
    "df1['a'].sum()"
   ]
  },
  {
   "cell_type": "code",
   "execution_count": 20,
   "id": "a51d8069-163f-456b-831d-6cc476b6002e",
   "metadata": {},
   "outputs": [
    {
     "data": {
      "text/plain": [
       "2.5"
      ]
     },
     "execution_count": 20,
     "metadata": {},
     "output_type": "execute_result"
    }
   ],
   "source": [
    "df1['a'].mean()"
   ]
  },
  {
   "cell_type": "code",
   "execution_count": 21,
   "id": "f284419c-b3a9-4189-9efa-d67d7e0af104",
   "metadata": {},
   "outputs": [
    {
     "data": {
      "text/plain": [
       "2.5"
      ]
     },
     "execution_count": 21,
     "metadata": {},
     "output_type": "execute_result"
    }
   ],
   "source": [
    "df1['a'].median()"
   ]
  },
  {
   "cell_type": "code",
   "execution_count": 22,
   "id": "da5fbbdd-e9a0-48ff-af07-666e3570d41d",
   "metadata": {},
   "outputs": [
    {
     "data": {
      "text/plain": [
       "1.6666666666666667"
      ]
     },
     "execution_count": 22,
     "metadata": {},
     "output_type": "execute_result"
    }
   ],
   "source": [
    "df['a'].var()"
   ]
  },
  {
   "cell_type": "code",
   "execution_count": 23,
   "id": "72f583cc-7ff5-4c77-a58a-aaa3188d3cf9",
   "metadata": {},
   "outputs": [
    {
     "data": {
      "text/plain": [
       "1.2909944487358056"
      ]
     },
     "execution_count": 23,
     "metadata": {},
     "output_type": "execute_result"
    }
   ],
   "source": [
    "df['a'].std()"
   ]
  },
  {
   "cell_type": "code",
   "execution_count": 24,
   "id": "4bb6d271-0965-4430-8bf6-e5aa5d76561e",
   "metadata": {},
   "outputs": [
    {
     "data": {
      "text/html": [
       "<div>\n",
       "<style scoped>\n",
       "    .dataframe tbody tr th:only-of-type {\n",
       "        vertical-align: middle;\n",
       "    }\n",
       "\n",
       "    .dataframe tbody tr th {\n",
       "        vertical-align: top;\n",
       "    }\n",
       "\n",
       "    .dataframe thead th {\n",
       "        text-align: right;\n",
       "    }\n",
       "</style>\n",
       "<table border=\"1\" class=\"dataframe\">\n",
       "  <thead>\n",
       "    <tr style=\"text-align: right;\">\n",
       "      <th></th>\n",
       "      <th>a</th>\n",
       "    </tr>\n",
       "  </thead>\n",
       "  <tbody>\n",
       "    <tr>\n",
       "      <th>0</th>\n",
       "      <td>1</td>\n",
       "    </tr>\n",
       "    <tr>\n",
       "      <th>1</th>\n",
       "      <td>2</td>\n",
       "    </tr>\n",
       "    <tr>\n",
       "      <th>2</th>\n",
       "      <td>3</td>\n",
       "    </tr>\n",
       "    <tr>\n",
       "      <th>3</th>\n",
       "      <td>4</td>\n",
       "    </tr>\n",
       "    <tr>\n",
       "      <th>4</th>\n",
       "      <td>5</td>\n",
       "    </tr>\n",
       "    <tr>\n",
       "      <th>5</th>\n",
       "      <td>6</td>\n",
       "    </tr>\n",
       "    <tr>\n",
       "      <th>6</th>\n",
       "      <td>7</td>\n",
       "    </tr>\n",
       "    <tr>\n",
       "      <th>7</th>\n",
       "      <td>8</td>\n",
       "    </tr>\n",
       "    <tr>\n",
       "      <th>8</th>\n",
       "      <td>9</td>\n",
       "    </tr>\n",
       "  </tbody>\n",
       "</table>\n",
       "</div>"
      ],
      "text/plain": [
       "   a\n",
       "0  1\n",
       "1  2\n",
       "2  3\n",
       "3  4\n",
       "4  5\n",
       "5  6\n",
       "6  7\n",
       "7  8\n",
       "8  9"
      ]
     },
     "execution_count": 24,
     "metadata": {},
     "output_type": "execute_result"
    }
   ],
   "source": [
    "df4 = pd.DataFrame({\n",
    "    'a':[1,2,3,4,5,6,7,8,9],\n",
    "})\n",
    "df4"
   ]
  },
  {
   "cell_type": "code",
   "execution_count": 25,
   "id": "2f30996f-c1aa-42d1-b079-35af075c4620",
   "metadata": {},
   "outputs": [
    {
     "data": {
      "text/plain": [
       "0     NaN\n",
       "1     NaN\n",
       "2     6.0\n",
       "3     9.0\n",
       "4    12.0\n",
       "5    15.0\n",
       "6    18.0\n",
       "7    21.0\n",
       "8    24.0\n",
       "Name: a, dtype: float64"
      ]
     },
     "execution_count": 25,
     "metadata": {},
     "output_type": "execute_result"
    }
   ],
   "source": [
    "df4['a'].rolling(window=3).sum()"
   ]
  },
  {
   "cell_type": "code",
   "execution_count": 26,
   "id": "8b1473e4-41b3-4fe0-bf2c-6e3602ec6866",
   "metadata": {},
   "outputs": [
    {
     "data": {
      "text/plain": [
       "0    NaN\n",
       "1    1.5\n",
       "2    2.5\n",
       "3    3.5\n",
       "4    4.5\n",
       "5    5.5\n",
       "6    6.5\n",
       "7    7.5\n",
       "8    8.5\n",
       "Name: a, dtype: float64"
      ]
     },
     "execution_count": 26,
     "metadata": {},
     "output_type": "execute_result"
    }
   ],
   "source": [
    "df4['a'].rolling(window=2).median()"
   ]
  },
  {
   "cell_type": "code",
   "execution_count": 57,
   "id": "f906ea80-f566-4e51-b1fb-5821854e9d1f",
   "metadata": {},
   "outputs": [
    {
     "data": {
      "text/html": [
       "<div>\n",
       "<style scoped>\n",
       "    .dataframe tbody tr th:only-of-type {\n",
       "        vertical-align: middle;\n",
       "    }\n",
       "\n",
       "    .dataframe tbody tr th {\n",
       "        vertical-align: top;\n",
       "    }\n",
       "\n",
       "    .dataframe thead th {\n",
       "        text-align: right;\n",
       "    }\n",
       "</style>\n",
       "<table border=\"1\" class=\"dataframe\">\n",
       "  <thead>\n",
       "    <tr style=\"text-align: right;\">\n",
       "      <th></th>\n",
       "      <th>0</th>\n",
       "    </tr>\n",
       "  </thead>\n",
       "  <tbody>\n",
       "    <tr>\n",
       "      <th>0</th>\n",
       "      <td>2023-08-15</td>\n",
       "    </tr>\n",
       "    <tr>\n",
       "      <th>1</th>\n",
       "      <td>2023-08-16</td>\n",
       "    </tr>\n",
       "    <tr>\n",
       "      <th>2</th>\n",
       "      <td>2023-08-17</td>\n",
       "    </tr>\n",
       "    <tr>\n",
       "      <th>3</th>\n",
       "      <td>2023-08-18</td>\n",
       "    </tr>\n",
       "    <tr>\n",
       "      <th>4</th>\n",
       "      <td>2023-08-19</td>\n",
       "    </tr>\n",
       "    <tr>\n",
       "      <th>...</th>\n",
       "      <td>...</td>\n",
       "    </tr>\n",
       "    <tr>\n",
       "      <th>362</th>\n",
       "      <td>2024-08-11</td>\n",
       "    </tr>\n",
       "    <tr>\n",
       "      <th>363</th>\n",
       "      <td>2024-08-12</td>\n",
       "    </tr>\n",
       "    <tr>\n",
       "      <th>364</th>\n",
       "      <td>2024-08-13</td>\n",
       "    </tr>\n",
       "    <tr>\n",
       "      <th>365</th>\n",
       "      <td>2024-08-14</td>\n",
       "    </tr>\n",
       "    <tr>\n",
       "      <th>366</th>\n",
       "      <td>2024-08-15</td>\n",
       "    </tr>\n",
       "  </tbody>\n",
       "</table>\n",
       "<p>367 rows × 1 columns</p>\n",
       "</div>"
      ],
      "text/plain": [
       "             0\n",
       "0   2023-08-15\n",
       "1   2023-08-16\n",
       "2   2023-08-17\n",
       "3   2023-08-18\n",
       "4   2023-08-19\n",
       "..         ...\n",
       "362 2024-08-11\n",
       "363 2024-08-12\n",
       "364 2024-08-13\n",
       "365 2024-08-14\n",
       "366 2024-08-15\n",
       "\n",
       "[367 rows x 1 columns]"
      ]
     },
     "execution_count": 57,
     "metadata": {},
     "output_type": "execute_result"
    }
   ],
   "source": [
    "date = pd.date_range(start='2023-08-15',end='2024-08-15')\n",
    "pd.DataFrame(date)"
   ]
  },
  {
   "cell_type": "code",
   "execution_count": null,
   "id": "f25296d9-4ea6-47d2-a55a-01a14d204c8b",
   "metadata": {},
   "outputs": [],
   "source": []
  }
 ],
 "metadata": {
  "kernelspec": {
   "display_name": "Python 3 (ipykernel)",
   "language": "python",
   "name": "python3"
  },
  "language_info": {
   "codemirror_mode": {
    "name": "ipython",
    "version": 3
   },
   "file_extension": ".py",
   "mimetype": "text/x-python",
   "name": "python",
   "nbconvert_exporter": "python",
   "pygments_lexer": "ipython3",
   "version": "3.12.4"
  }
 },
 "nbformat": 4,
 "nbformat_minor": 5
}
